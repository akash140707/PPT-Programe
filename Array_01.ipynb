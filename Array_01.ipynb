{
  "nbformat": 4,
  "nbformat_minor": 0,
  "metadata": {
    "colab": {
      "provenance": []
    },
    "kernelspec": {
      "name": "python3",
      "display_name": "Python 3"
    },
    "language_info": {
      "name": "python"
    }
  },
  "cells": [
    {
      "cell_type": "markdown",
      "source": [
        " **Q1.** Given an array of integers nums and an integer target, return indices of the two numbers such that they add up to target.\n",
        "\n",
        "You may assume that each input would have exactly one solution, and you may not use the same element twice.\n",
        "\n",
        "You can return the answer in any order.\n",
        "\n",
        "**Example:**\n",
        "Input: nums = [2,7,11,15], target = 9\n",
        "\n",
        "Output0 [0,1]\n",
        "\n",
        "**Explanation:** Because nums[0] + nums[1] == 9, we return [0, 1][\n",
        "\n",
        "</aside>"
      ],
      "metadata": {
        "id": "G2GidC37TQd6"
      }
    },
    {
      "cell_type": "code",
      "source": [
        "def TwoSum(self,nums:List[int],target: int) ->List[int]:\n",
        "  for i in range(len(nums)):\n",
        "    for j in range(i+1,len(nums)):\n",
        "      if nums[i] + nums[j] == target:\n",
        "        return[i,j]"
      ],
      "metadata": {
        "id": "skFiOufeWF8t"
      },
      "execution_count": null,
      "outputs": []
    },
    {
      "cell_type": "markdown",
      "source": [
        "**Q2.** Given an integer array nums and an integer val, remove all occurrences of val in nums in-place. The order of the elements may be changed. Then return the number of elements in nums which are not equal to val.\n",
        "\n",
        "Consider the number of elements in nums which are not equal to val be k, to get *accepted*, you need to do the following things:\n",
        "\n",
        "- Change the array nums such that the first k elements of nums contain the elements which are not equal to val. The remaining elements of nums are not important as well as the size of nums.\n",
        "- Return k.\n",
        "\n",
        "**Example :**\n",
        "Input: nums = [3,2,2,3], val = 3\n",
        "Output: 2, nums = [2,2,_*,_*]\n",
        "\n",
        "**Explanation:** Your function should return k = 2, with the first two elements of nums being 2. It does not matter what you leave beyond the returned k (hence they are underscores)[\n",
        "\n",
        "**Ans** Approach 1: One Pass\n",
        "\n",
        "We use the variable *k* \n",
        " to record the number of elements that are not equal to *val*\n",
        ".\n",
        "\n",
        "Traverse the array *nums*\n",
        ", if the current element *x*\n",
        " is not equal to *val*\n",
        ", then assign *x*\n",
        " to *nums[k]*\n",
        ", and increment *k*\n",
        " by 1\n",
        ".\n",
        "\n",
        "Finally, return *k*\n",
        ".\n",
        "\n",
        "The time complexity is *o(n)*\n",
        " and the space complexity is *o(1)* \n",
        ", where *n*\n",
        " is the length of the array nums\n",
        "."
      ],
      "metadata": {
        "id": "9_jTDJ_kXTFD"
      }
    },
    {
      "cell_type": "code",
      "source": [
        "class Solution:\n",
        "    def removeElement(self, nums: List[int], val: int) -> int:\n",
        "        k = 0\n",
        "        for x in nums:\n",
        "            if x != val:\n",
        "                nums[k] = x\n",
        "                k += 1\n",
        "        return k"
      ],
      "metadata": {
        "id": "yc2lMs0IbcMm"
      },
      "execution_count": null,
      "outputs": []
    },
    {
      "cell_type": "markdown",
      "source": [
        "\n",
        " **Q3.** Given a sorted array of distinct integers and a target value, return the index if the target is found. If not, return the index where it would be if it were inserted in order.\n",
        "\n",
        "You must write an algorithm with O(log n) runtime complexity.\n",
        "\n",
        "**Example 1:**\n",
        "Input: nums = [1,3,5,6], target = 5\n",
        "\n",
        "Output: 2\n",
        "\n",
        "Efficient Approach: To optimize the above approach, the idea is to use Binary Search. Follow the steps below to solve the problem: \n",
        "\n",
        "Set start and end as 0 and N – 1, where the start and end variables denote the lower and upper bound of the search space respectively.\n",
        "Calculate mid = (start + end) / 2.\n",
        "If arr[mid] is found to be equal to K, print mid as the required answer.\n",
        "If arr[mid] exceeds K, set high = mid – 1 Otherwise, set  low = mid + 1. \n",
        "Below is the implementation of above approach :"
      ],
      "metadata": {
        "id": "8fnjZtXPulqX"
      }
    },
    {
      "cell_type": "code",
      "source": [
        "# Python program to implement\n",
        "# the above approach\n",
        "\n",
        "# Function to find insert position of K\n",
        "def find_index(arr, n, K):\n",
        "\n",
        "\t# Lower and upper bounds\n",
        "\tstart = 0\n",
        "\tend = n - 1\n",
        "\n",
        "\t# Traverse the search space\n",
        "\twhile start<= end:\n",
        "\n",
        "\t\tmid =(start + end)//2\n",
        "\n",
        "\t\tif arr[mid] == K:\n",
        "\t\t\treturn mid\n",
        "\n",
        "\t\telif arr[mid] < K:\n",
        "\t\t\tstart = mid + 1\n",
        "\t\telse:\n",
        "\t\t\tend = mid-1\n",
        "\n",
        "\t# Return the insert position\n",
        "\treturn end + 1\n",
        "\n",
        "# Driver Code\n",
        "arr = [1, 3, 5, 6]\n",
        "n = len(arr)\n",
        "K = 2\n",
        "print(find_index(arr, n, K))\n"
      ],
      "metadata": {
        "colab": {
          "base_uri": "https://localhost:8080/"
        },
        "id": "wMum0u6FgbXj",
        "outputId": "450b33cc-3656-4baa-a7d3-207606b637b7"
      },
      "execution_count": null,
      "outputs": [
        {
          "output_type": "stream",
          "name": "stdout",
          "text": [
            "1\n"
          ]
        }
      ]
    },
    {
      "cell_type": "markdown",
      "source": [
        "Time Complexity: O(log N)\n",
        "\n",
        "Auxiliary Space: O(1)\n",
        "\n"
      ],
      "metadata": {
        "id": "A0l-IyDsbuJa"
      }
    },
    {
      "cell_type": "markdown",
      "source": [
        " **Q4.** You are given a large integer represented as an integer array digits, where each digits[i] is the ith digit of the integer. The digits are ordered from most significant to least significant in left-to-right order. The large integer does not contain any leading 0's.\n",
        "\n",
        "Increment the large integer by one and return the resulting array of digits.\n",
        "\n",
        "**Example 1:**\n",
        "Input: digits = [1,2,3]\n",
        "\n",
        "Output: [1,2,4]\n",
        "\n",
        "**Explanation:** The array represents the integer 123.\n",
        "\n",
        "Incrementing by one gives 123 + 1 = 124.\n",
        "\n",
        "Thus, the result should be [1,2,4].\n",
        "\n",
        "</aside>"
      ],
      "metadata": {
        "id": "yeCKNDmWvcTH"
      }
    },
    {
      "cell_type": "code",
      "source": [
        "def AddOne(digits):\n",
        "    \n",
        "    # initialize an index (digit of units)\n",
        "    index = len(digits) - 1\n",
        "      \n",
        "    # while the index is valid and the value at [index] ==\n",
        "    # 9 set it as 0\n",
        "    while (index >= 0 and digits[index] == 9):\n",
        "        digits[index] = 0\n",
        "        index -= 1\n",
        "          \n",
        "    # if index < 0 (if all digits were 9)\n",
        "    if (index < 0):\n",
        "        \n",
        "        # insert an one at the beginning of the vector\n",
        "        digits.insert(0, 1)\n",
        "          \n",
        "    # else increment the value at [index]\n",
        "    else:\n",
        "        digits[index]+=1\n",
        "  \n",
        "  \n",
        "digits = [1, 7, 8, 9]\n",
        "  \n",
        "AddOne(digits)\n",
        "  \n",
        "for digit in digits:\n",
        "    print(digit, end =' ')"
      ],
      "metadata": {
        "colab": {
          "base_uri": "https://localhost:8080/"
        },
        "id": "yJGBQlyrvR6x",
        "outputId": "449798e2-aef2-4635-a8e1-f0220323a382"
      },
      "execution_count": null,
      "outputs": [
        {
          "output_type": "stream",
          "name": "stdout",
          "text": [
            "1 7 9 0 "
          ]
        }
      ]
    },
    {
      "cell_type": "markdown",
      "source": [
        "Time Complexity: O(n), where n is the number of digits.\n",
        "\n",
        "Auxiliary Space: O(1)"
      ],
      "metadata": {
        "id": "EJOBmbWDImul"
      }
    },
    {
      "cell_type": "markdown",
      "source": [
        "**Q5.** You are given two integer arrays nums1 and nums2, sorted in non-decreasing order, and two integers m and n, representing the number of elements in nums1 and nums2 respectively.\n",
        "\n",
        "Merge nums1 and nums2 into a single array sorted in non-decreasing order.\n",
        "\n",
        "The final sorted array should not be returned by the function, but instead be stored inside the array nums1. To accommodate this, nums1 has a length of m + n, where the first m elements denote the elements that should be merged, and the last n elements are set to 0 and should be ignored. nums2 has a length of n.\n",
        "\n",
        "**Example 1:**\n",
        "Input: nums1 = [1,2,3,0,0,0], m = 3, nums2 = [2,5,6], n = 3\n",
        "\n",
        "Output: [1,2,2,3,5,6]\n",
        "\n",
        "**Explanation:** The arrays we are merging are [1,2,3] and [2,5,6].\n",
        "\n",
        "The result of the merge is [1,2,2,3,5,6] with the underlined elements coming from nums1.\n",
        "\n",
        "</aside>"
      ],
      "metadata": {
        "id": "-H1A-0I-I8rO"
      }
    },
    {
      "cell_type": "markdown",
      "source": [
        "Approach 1: Two Pointers\n",
        "\n",
        "We use two pointers i\n",
        " and j\n",
        " pointing to the end of two arrays, and a pointer k\n",
        " pointing to the end of the merged array.\n",
        "\n",
        "Every time we compare the two elements at the end of the two arrays, and move the larger one to the end of the merged array. Then we move the pointer one step forward, and repeat this process until the two pointers reach the start of the arrays.\n",
        "\n",
        "The time complexity is O(m+n)\n",
        ", where m\n",
        " and n\n",
        " are the lengths of two arrays. The space complexity is O(1)\n",
        "."
      ],
      "metadata": {
        "id": "xe2Mn6zjp8Ka"
      }
    },
    {
      "cell_type": "code",
      "source": [
        "class Solution:\n",
        "    def merge(self, nums1: List[int], m: int, nums2: List[int], n: int) -> None:\n",
        "        k = m + n - 1\n",
        "        i, j = m - 1, n - 1\n",
        "        while j >= 0:\n",
        "            if i >= 0 and nums1[i] > nums2[j]:\n",
        "                nums1[k] = nums1[i]\n",
        "                i -= 1\n",
        "            else:\n",
        "                nums1[k] = nums2[j]\n",
        "                j -= 1\n",
        "            k -= 1"
      ],
      "metadata": {
        "id": "NgSTIxTqIfem"
      },
      "execution_count": null,
      "outputs": []
    },
    {
      "cell_type": "markdown",
      "source": [
        "**Q6.** Given an integer array nums, return true if any value appears at least twice in the array, and return false if every element is distinct.\n",
        "\n",
        "**Example 1:**\n",
        "Input: nums = [1,2,3,1]\n",
        "\n",
        "Output: true\n",
        "\n",
        "</aside>"
      ],
      "metadata": {
        "id": "GtQPQhduqgAP"
      }
    },
    {
      "cell_type": "code",
      "source": [
        "def checkDuplicatesWithinK(arr,  n,  k):\n",
        " \n",
        "    # traversing the input array\n",
        "    for i in range(n):\n",
        "        j = i + 1\n",
        "        range_ = k\n",
        "         \n",
        "        # searching in next k-1 elements if its duplicate\n",
        "        # is present or not\n",
        "        while (range_ > 0 and j < n):\n",
        "            if (arr[i] == arr[j]):\n",
        "                return True\n",
        "            j += 1\n",
        "            range_ -= 1\n",
        " \n",
        "    return False\n",
        " \n",
        " \n",
        "# Driver method to test above method\n",
        " \n",
        "arr = [10, 5, 3, 4, 3, 5, 6]\n",
        "n = len(arr)\n",
        "if (checkDuplicatesWithinK(arr, n, 3) == True):\n",
        "    print(\"Yes\")\n",
        "else:\n",
        "    print(\"No\")\n",
        " \n",
        " "
      ],
      "metadata": {
        "colab": {
          "base_uri": "https://localhost:8080/"
        },
        "id": "YrD8qT8CsFip",
        "outputId": "a4a3d34d-d249-4d37-8fb0-4e65bfd7add3"
      },
      "execution_count": null,
      "outputs": [
        {
          "output_type": "stream",
          "name": "stdout",
          "text": [
            "Yes\n"
          ]
        }
      ]
    },
    {
      "cell_type": "markdown",
      "source": [
        "Time Complexity: O(N*K).\n",
        "\n",
        "Auxiliary Space: O(1)."
      ],
      "metadata": {
        "id": "fx78uytfsQ1A"
      }
    },
    {
      "cell_type": "markdown",
      "source": [
        "**Q7.** Given an integer array nums, move all 0's to the end of it while maintaining the relative order of the nonzero elements.\n",
        "\n",
        "Note that you must do this in-place without making a copy of the array.\n",
        "\n",
        "**Example 1:**\n",
        "Input: nums = [0,1,0,3,12]\n",
        "\n",
        "Output: [1,3,12,0,0]\n",
        "\n",
        "</aside>"
      ],
      "metadata": {
        "id": "q1agWx74sXXd"
      }
    },
    {
      "cell_type": "code",
      "source": [
        "# Python3 code to move all zeroes\n",
        "# at the end of array\n",
        " \n",
        "# Function which pushes all\n",
        "# zeros to end of an array.\n",
        "def pushZerosToEnd(arr, n):\n",
        "    count = 0 # Count of non-zero elements\n",
        "     \n",
        "    # Traverse the array. If element\n",
        "    # encountered is non-zero, then\n",
        "    # replace the element at index\n",
        "    # 'count' with this element\n",
        "    for i in range(n):\n",
        "        if arr[i] != 0:\n",
        "             \n",
        "            # here count is incremented\n",
        "            arr[count] = arr[i]\n",
        "            count+=1\n",
        "     \n",
        "    # Now all non-zero elements have been\n",
        "    # shifted to front and 'count' is set\n",
        "    # as index of first 0. Make all\n",
        "    # elements 0 from count to end.\n",
        "    while count < n:\n",
        "        arr[count] = 0\n",
        "        count += 1\n",
        "         \n",
        "# Driver code\n",
        "arr = [1, 9, 8, 4, 0, 0, 2, 7, 0, 6, 0, 9]\n",
        "n = len(arr)\n",
        "pushZerosToEnd(arr, n)\n",
        "print(\"Array after pushing all zeros to end of array:\")\n",
        "print(arr)\n",
        " "
      ],
      "metadata": {
        "colab": {
          "base_uri": "https://localhost:8080/"
        },
        "id": "R6X4MQg9sHJI",
        "outputId": "05f3ebf0-a553-452d-c97b-14dc3aba7308"
      },
      "execution_count": null,
      "outputs": [
        {
          "output_type": "stream",
          "name": "stdout",
          "text": [
            "Array after pushing all zeros to end of array:\n",
            "[1, 9, 8, 4, 2, 7, 6, 9, 0, 0, 0, 0]\n"
          ]
        }
      ]
    },
    {
      "cell_type": "markdown",
      "source": [
        "Time Complexity: O(n) where n is the size of elements of the input array.\n",
        "\n",
        "Auxiliary Space: O(1)"
      ],
      "metadata": {
        "id": "uMt2xmOftOWr"
      }
    },
    {
      "cell_type": "markdown",
      "source": [
        "**Q8.** You have a set of integers s, which originally contains all the numbers from 1 to n. Unfortunately, due to some error, one of the numbers in s got duplicated to another number in the set, which results in repetition of one number and loss of another number.\n",
        "\n",
        "You are given an integer array nums representing the data status of this set after the error.\n",
        "\n",
        "Find the number that occurs twice and the number that is missing and return them in the form of an array.\n",
        "\n",
        "**Example 1:**\n",
        "Input: nums = [1,2,2,4]\n",
        "\n",
        "Output: [2,3]\n",
        "\n",
        "</aside>"
      ],
      "metadata": {
        "id": "qcVv9bzWtbrT"
      }
    },
    {
      "cell_type": "code",
      "source": [
        "class Solution(object):\n",
        "  def findErrorNums(self, nums):\n",
        "\n",
        "    nums.sort()\n",
        "    rep_miss = [] \n",
        "    for i  in range(len(nums)) :\n",
        "        for j in range(i+1, len(nums)) :\n",
        "            \n",
        "            if   nums[i] == nums[j] :\n",
        "                rep_miss.append(nums[i])\n",
        "\n",
        "    for i  in range(1, len(nums)+1) :\n",
        "        if i not in nums : #and abs(rep_miss[0]-i ==1) :\n",
        "            rep_miss.append(i)\n",
        "\n",
        "    return rep_miss"
      ],
      "metadata": {
        "id": "kn7-McCCtIbg"
      },
      "execution_count": null,
      "outputs": []
    },
    {
      "cell_type": "code",
      "source": [],
      "metadata": {
        "id": "NoFwqsK6uVMw"
      },
      "execution_count": null,
      "outputs": []
    }
  ]
}