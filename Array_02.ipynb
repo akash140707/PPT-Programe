{
  "nbformat": 4,
  "nbformat_minor": 0,
  "metadata": {
    "colab": {
      "provenance": []
    },
    "kernelspec": {
      "name": "python3",
      "display_name": "Python 3"
    },
    "language_info": {
      "name": "python"
    }
  },
  "cells": [
    {
      "cell_type": "markdown",
      "source": [
        "<aside>\n",
        "💡 **Question 1**\n",
        "Given an integer array nums of 2n integers, group these integers into n pairs (a1, b1), (a2, b2),..., (an, bn) such that the sum of min(ai, bi) for all i is maximized. Return the maximized sum.\n",
        "\n",
        "**Example 1:**\n",
        "\n",
        "Input: nums = [1,4,3,2]\n",
        "\n",
        "Output: 4\n",
        "\n",
        "**Explanation:** All possible pairings (ignoring the ordering of elements) are:\n",
        "\n",
        "1. (1, 4), (2, 3) -> min(1, 4) + min(2, 3) = 1 + 2 = 3\n",
        "2. (1, 3), (2, 4) -> min(1, 3) + min(2, 4) = 1 + 2 = 3\n",
        "3. (1, 2), (3, 4) -> min(1, 2) + min(3, 4) = 1 + 3 = 4\n",
        "\n",
        "So the maximum possible sum is 4\n",
        "</aside>"
      ],
      "metadata": {
        "id": "rXFTJhQu1JXT"
      }
    },
    {
      "cell_type": "code",
      "execution_count": null,
      "metadata": {
        "id": "6CyMpLh-1H7E"
      },
      "outputs": [],
      "source": [
        "def arrayPairSum(nums: List[int]) -> int:\n",
        "    nums_sort = sorted(nums)\n",
        "    res = 0\n",
        "    i = 0\n",
        "    while i < len(nums):\n",
        "        res += nums_sort[i]\n",
        "        i += 2\n",
        "    return res"
      ]
    },
    {
      "cell_type": "markdown",
      "source": [
        "**Question 2 ** Alice has n candies, where the ith candy is of type candyType[i]. Alice noticed that she started to gain weight, so she visited a doctor. \n",
        "\n",
        "The doctor advised Alice to only eat n / 2 of the candies she has (n is always even). Alice likes her candies very much, and she wants to eat the maximum number of different types of candies while still following the doctor's advice. \n",
        "\n",
        "Given the integer array candyType of length n, return the maximum number of different types of candies she can eat if she only eats n / 2 of them.\n",
        "\n",
        "Example 1:\n",
        "\n",
        "Input: candyType = [1,1,2,2,3,3]\n",
        "\n",
        "Output: 3\n",
        "\n",
        "Explanation: Alice can only eat 6 / 2 = 3 candies.\n",
        "\n",
        "Since there are only 3 types, she can eat one of each type."
      ],
      "metadata": {
        "id": "dD462WSX25xG"
      }
    },
    {
      "cell_type": "code",
      "source": [
        "class Solution:\n",
        "    def distributeCandies(self, C: List[int]) -> int:\n",
        "        return min(len(set(C)), len(C) // 2)"
      ],
      "metadata": {
        "id": "-n1ZE02h3EVz"
      },
      "execution_count": null,
      "outputs": []
    },
    {
      "cell_type": "markdown",
      "source": [
        "**Question 3**\n",
        "\n",
        "We define a harmonious array as an array where the difference between its maximum value\n",
        "and its minimum value is exactly 1.\n",
        "\n",
        "Given an integer array nums, return the length of its longest harmonious subsequence\n",
        "among all its possible subsequences.\n",
        "\n",
        "A subsequence of an array is a sequence that can be derived from the array by deleting some or no elements without changing the order of the remaining elements.\n",
        "\n",
        "**Example 1:**\n",
        "\n",
        "Input: nums = [1,3,2,2,5,2,3,7]\n",
        "\n",
        "Output: 5\n",
        "\n",
        "**Explanation:** The longest harmonious subsequence is [3,2,2,2,3].\n",
        "\n",
        "</aside>"
      ],
      "metadata": {
        "id": "iU2BSwwi592u"
      }
    },
    {
      "cell_type": "markdown",
      "source": [
        "To find the length of the longest harmonious subsequence in an array, we can follow these steps:\n",
        "\n",
        "Initialize a dictionary to keep track of the frequency of each number in the array.\n",
        "\n",
        "Iterate through the array and update the frequency count in the dictionary.\n",
        "\n",
        "Initialize a variable called maxLen to 0, which will store the length of the longest harmonious subsequence.\n",
        "\n",
        "Iterate through the dictionary and for each key-value pair (num, freq), do the following:\n",
        "a. If the dictionary contains num + 1, update maxLen to the maximum of maxLen and the sum of freq and the frequency of num + 1.\n",
        "Return maxLen."
      ],
      "metadata": {
        "id": "Q3AhAoq6KyTc"
      }
    },
    {
      "cell_type": "code",
      "source": [
        "def findLHS(nums):\n",
        "    freq_dict = {}\n",
        "    max_len = 0\n",
        "\n",
        "    for num in nums:\n",
        "        freq_dict[num] = freq_dict.get(num, 0) + 1\n",
        "\n",
        "    for num, freq in freq_dict.items():\n",
        "        if num + 1 in freq_dict:\n",
        "            max_len = max(max_len, freq + freq_dict[num + 1])\n",
        "\n",
        "    return max_len\n",
        "\n",
        "nums = [1, 3, 2, 2, 5, 2, 3, 7]\n",
        "print(findLHS(nums)) "
      ],
      "metadata": {
        "colab": {
          "base_uri": "https://localhost:8080/"
        },
        "id": "eDnv5glPK_Pw",
        "outputId": "fa0e524a-75c9-4913-d4c9-86d01ea36031"
      },
      "execution_count": 2,
      "outputs": [
        {
          "output_type": "stream",
          "name": "stdout",
          "text": [
            "5\n"
          ]
        }
      ]
    },
    {
      "cell_type": "markdown",
      "source": [
        "In the given example, the longest harmonious subsequence is [3, 2, 2, 2, 3] with a length of 5."
      ],
      "metadata": {
        "id": "KuPrMBiuLQJU"
      }
    },
    {
      "cell_type": "code",
      "source": [],
      "metadata": {
        "id": "gUA50uCgIQ6o"
      },
      "execution_count": null,
      "outputs": []
    },
    {
      "cell_type": "markdown",
      "source": [
        "Question 4\n",
        "\n",
        "You have a long flowerbed in which some of the plots are planted, and some are not.\n",
        "However, flowers cannot be planted in adjacent plots.\n",
        "\n",
        "Given an integer array flowerbed containing 0's and 1's, where 0 means empty and 1 means not empty, and an integer n, return true if n new flowers can be planted in the flowerbed without violating the no-adjacent-flowers rule and false otherwise.\n",
        "\n",
        "Example 1:\n",
        "\n",
        "Input: flowerbed = [1,0,0,0,1], n = 1\n",
        "\n",
        "Output: true"
      ],
      "metadata": {
        "id": "MR6xxYW_HRrE"
      }
    },
    {
      "cell_type": "markdown",
      "source": [
        "\n",
        "To determine if it is possible to plant n new flowers in the flowerbed without violating the no-adjacent-flowers rule, we can iterate over the flowerbed and check each plot's surroundings."
      ],
      "metadata": {
        "id": "WkF9TQoRMj7Y"
      }
    },
    {
      "cell_type": "code",
      "source": [
        "def can_place_flowers(flowerbed, n):\n",
        "    length = len(flowerbed)\n",
        "    count = 0\n",
        "    i = 0\n",
        "\n",
        "    while i < length:\n",
        "        # Check if the current plot is empty and its neighbors are also empty\n",
        "        if flowerbed[i] == 0 and (i == 0 or flowerbed[i - 1] == 0) and (i == length - 1 or flowerbed[i + 1] == 0):\n",
        "            flowerbed[i] = 1  # Plant a flower in the current plot\n",
        "            count += 1  # Increment the count of planted flowers\n",
        "\n",
        "        # If we have planted enough flowers, return True\n",
        "        if count >= n:\n",
        "            return True\n",
        "\n",
        "        i += 1\n",
        "\n",
        "    return False  # If we couldn't plant enough flowers, return False"
      ],
      "metadata": {
        "id": "eXd9RD2wMngx"
      },
      "execution_count": 3,
      "outputs": []
    },
    {
      "cell_type": "code",
      "source": [
        "flowerbed = [1, 0, 0, 0, 1]\n",
        "n = 1\n",
        "print(can_place_flowers(flowerbed, n))  # Output: True\n",
        "\n",
        "flowerbed = [1, 0, 0, 0, 1]\n",
        "n = 2\n",
        "print(can_place_flowers(flowerbed, n))  # Output: False"
      ],
      "metadata": {
        "colab": {
          "base_uri": "https://localhost:8080/"
        },
        "id": "0Uj1FHYLNMNR",
        "outputId": "5d636fc0-2fec-48b1-995c-c0717ba0f274"
      },
      "execution_count": 4,
      "outputs": [
        {
          "output_type": "stream",
          "name": "stdout",
          "text": [
            "True\n",
            "False\n"
          ]
        }
      ]
    },
    {
      "cell_type": "markdown",
      "source": [
        "Question 5\n",
        "\n",
        "Given an integer array nums, find three numbers whose product is maximum and return the maximum product.\n",
        "\n",
        "Example 1:\n",
        "\n",
        "Input: nums = [1,2,3]\n",
        "\n",
        "Output: 6"
      ],
      "metadata": {
        "id": "E3cMZNoJHRfh"
      }
    },
    {
      "cell_type": "markdown",
      "source": [
        "To find three numbers in an integer array nums whose product is maximum, we can employ a sorting-based approach. Since we want the maximum product, we need to consider the largest and smallest values in the array. Here's an implementation in Python:"
      ],
      "metadata": {
        "id": "KhdxqGX_Nk5c"
      }
    },
    {
      "cell_type": "code",
      "source": [
        "def maximum_product(nums):\n",
        "    nums.sort()  # Sort the array in ascending order\n",
        "    n = len(nums)\n",
        "    \n",
        "    # Compare the product of the three largest numbers with the product of the two smallest numbers and the largest number\n",
        "    return max(nums[n-1] * nums[n-2] * nums[n-3], nums[0] * nums[1] * nums[n-1])\n"
      ],
      "metadata": {
        "id": "vCvASDyJNmHy"
      },
      "execution_count": 5,
      "outputs": []
    },
    {
      "cell_type": "code",
      "source": [
        "nums = [1, 2, 3, 4]\n",
        "print(maximum_product(nums))  # Output: 24\n",
        "\n",
        "nums = [-4, -3, -2, -1, 60]\n",
        "print(maximum_product(nums))  # Output: 720"
      ],
      "metadata": {
        "colab": {
          "base_uri": "https://localhost:8080/"
        },
        "id": "NRHt3kLzN-xc",
        "outputId": "67b8bd47-d7c6-4bee-f2ae-2c474fc12538"
      },
      "execution_count": 6,
      "outputs": [
        {
          "output_type": "stream",
          "name": "stdout",
          "text": [
            "24\n",
            "720\n"
          ]
        }
      ]
    },
    {
      "cell_type": "markdown",
      "source": [
        "Question 6\n",
        "\n",
        "Given an array of integers nums which is sorted in ascending order, and an integer target,\n",
        "write a function to search target in nums. If target exists, then return its index. Otherwise,\n",
        "return -1.\n",
        "\n",
        "You must write an algorithm with O(log n) runtime complexity.\n",
        "\n",
        "Input: nums = [-1,0,3,5,9,12], target = 9\n",
        "\n",
        "Output: 4\n",
        "\n",
        "Explanation: 9 exists in nums and its index is 4"
      ],
      "metadata": {
        "id": "ZDNMeG9zHRVV"
      }
    },
    {
      "cell_type": "markdown",
      "source": [
        "To search for a target in a sorted array of integers nums with a runtime complexity of O(log n), we can use the binary search algorithm. Here's an implementation in Python:"
      ],
      "metadata": {
        "id": "MOE1pCaYPV2k"
      }
    },
    {
      "cell_type": "code",
      "source": [
        "def search(nums, target):\n",
        "    left = 0\n",
        "    right = len(nums) - 1\n",
        "\n",
        "    while left <= right:\n",
        "        mid = (left + right) // 2\n",
        "\n",
        "        if nums[mid] == target:\n",
        "            return mid\n",
        "        elif nums[mid] < target:\n",
        "            left = mid + 1\n",
        "        else:\n",
        "            right = mid - 1\n",
        "\n",
        "    return -1\n"
      ],
      "metadata": {
        "id": "jTYY8EP2PZR9"
      },
      "execution_count": 7,
      "outputs": []
    },
    {
      "cell_type": "code",
      "source": [
        "nums = [-1, 0, 3, 5, 9, 12]\n",
        "target = 9\n",
        "print(search(nums, target))  # Output: 4\n",
        "\n",
        "target = 2\n",
        "print(search(nums, target))  # Output: -1"
      ],
      "metadata": {
        "colab": {
          "base_uri": "https://localhost:8080/"
        },
        "id": "gqEJDOfqPfDQ",
        "outputId": "693b8b69-27d4-49ee-afdb-116c962bfe43"
      },
      "execution_count": 8,
      "outputs": [
        {
          "output_type": "stream",
          "name": "stdout",
          "text": [
            "4\n",
            "-1\n"
          ]
        }
      ]
    },
    {
      "cell_type": "markdown",
      "source": [
        "In the first example, the target value 9 is found at index 4 in the array. In the second example, the target value 2 does not exist in the array, so -1 is returned. The algorithm performs a binary search by repeatedly dividing the search range in half until the target is found or the search range is exhausted. This approach guarantees a runtime complexity of O(log n)."
      ],
      "metadata": {
        "id": "40Tf0_9gQQtp"
      }
    },
    {
      "cell_type": "markdown",
      "source": [
        "Question 7\n",
        "\n",
        "An array is monotonic if it is either monotone increasing or monotone decreasing.\n",
        "\n",
        "An array nums is monotone increasing if for all i <= j, nums[i] <= nums[j]. An array nums is\n",
        "monotone decreasing if for all i <= j, nums[i] >= nums[j].\n",
        "\n",
        "Given an integer array nums, return true if the given array is monotonic, or false otherwise.\n",
        "\n",
        "Example 1:\n",
        "\n",
        "Input: nums = [1,2,2,3]\n",
        "\n",
        "Output: true"
      ],
      "metadata": {
        "id": "GXgO2NwrHRKO"
      }
    },
    {
      "cell_type": "markdown",
      "source": [
        "\n",
        "To determine whether an integer array nums is monotonic, we can check if it is either monotone increasing or monotone decreasing by comparing adjacent elements. Here's an implementation in Python:"
      ],
      "metadata": {
        "id": "Ch50gxA6QyIz"
      }
    },
    {
      "cell_type": "code",
      "source": [
        "def is_monotonic(nums):\n",
        "    increasing = decreasing = True\n",
        "\n",
        "    for i in range(1, len(nums)):\n",
        "        if nums[i] < nums[i - 1]:\n",
        "            increasing = False\n",
        "        if nums[i] > nums[i - 1]:\n",
        "            decreasing = False\n",
        "\n",
        "    return increasing or decreasing"
      ],
      "metadata": {
        "id": "Rpg5I9qyQ4sr"
      },
      "execution_count": 9,
      "outputs": []
    },
    {
      "cell_type": "code",
      "source": [
        "nums = [1, 2, 3, 4, 5]\n",
        "print(is_monotonic(nums))  # Output: True\n",
        "\n",
        "nums = [5, 4, 3, 2, 1]\n",
        "print(is_monotonic(nums))  # Output: True\n",
        "\n",
        "nums = [1, 2, 3, 2, 5]\n",
        "print(is_monotonic(nums))  # Output: False\n"
      ],
      "metadata": {
        "colab": {
          "base_uri": "https://localhost:8080/"
        },
        "id": "o3ekEMrQRuJk",
        "outputId": "be94e577-84c5-44f2-e6a5-d1ee65d728d7"
      },
      "execution_count": 10,
      "outputs": [
        {
          "output_type": "stream",
          "name": "stdout",
          "text": [
            "True\n",
            "True\n",
            "False\n"
          ]
        }
      ]
    },
    {
      "cell_type": "markdown",
      "source": [
        "In the first example, the array is monotone increasing, so the function returns True. In the second example, the array is monotone decreasing, so the function also returns True. In the third example, the array is neither monotone increasing nor monotone decreasing, so the function returns False. The function iterates through the array, comparing each element with its previous element. If there is any decrease, the increasing flag is set to False, and if there is any increase, the decreasing flag is set to False. The function returns True if either of the flags is still True at the end of the iteration, indicating that the array is monotonic in either direction."
      ],
      "metadata": {
        "id": "4oTbZJPsRzaB"
      }
    },
    {
      "cell_type": "markdown",
      "source": [
        "Question 8\n",
        "\n",
        "You are given an integer array nums and an integer k.\n",
        "\n",
        "In one operation, you can choose any index i where 0 <= i < nums.length and change nums[i] to nums[i] + x where x is an integer from the range [-k, k]. You can apply this operation at most once for each index i.\n",
        "\n",
        "The score of nums is the difference between the maximum and minimum elements in nums.\n",
        "\n",
        "Return the minimum score of nums after applying the mentioned operation at most once for each index in it.\n",
        "\n",
        "Example 1:\n",
        "\n",
        "Input: nums = [1], k = 0\n",
        "\n",
        "Output: 0\n",
        "\n",
        "Explanation: The score is max(nums) - min(nums) = 1 - 1 = 0."
      ],
      "metadata": {
        "id": "-6Uz5JYtHRAo"
      }
    },
    {
      "cell_type": "markdown",
      "source": [
        "To find the minimum score of an integer array nums after applying the described operation at most once for each index, we can perform the following steps:\n",
        "\n",
        "Initialize the minimum and maximum values as the first element of nums.\n",
        "\n",
        "Iterate through nums starting from the second element.\n",
        "\n",
        "For each element, update the minimum and maximum values considering the possible changes that can be made within the given range [-k, k].\n",
        "\n",
        "Calculate the final minimum score as the difference between the maximum and minimum values."
      ],
      "metadata": {
        "id": "4MV2gBvYS9f3"
      }
    },
    {
      "cell_type": "code",
      "source": [
        "def min_score(nums, k):\n",
        "    minimum = maximum = nums[0]\n",
        "\n",
        "    for i in range(1, len(nums)):\n",
        "        minimum = min(minimum, nums[i])\n",
        "        maximum = max(maximum, nums[i])\n",
        "\n",
        "    if maximum - k <= minimum + k:\n",
        "        return 0  # If the maximum and minimum values are already within the range after the operation, return 0\n",
        "\n",
        "    return maximum - minimum - 2 * k  # Otherwise, calculate the minimum score\n",
        "\n"
      ],
      "metadata": {
        "id": "LN8vFf-y6LM_"
      },
      "execution_count": 11,
      "outputs": []
    },
    {
      "cell_type": "code",
      "source": [
        "nums = [1]\n",
        "k = 0\n",
        "print(min_score(nums, k))  # Output: 0\n",
        "\n",
        "\n"
      ],
      "metadata": {
        "colab": {
          "base_uri": "https://localhost:8080/"
        },
        "id": "mmD_qiUyTHT1",
        "outputId": "b614ce08-2293-4592-c7bf-bb042a9dc495"
      },
      "execution_count": 12,
      "outputs": [
        {
          "output_type": "stream",
          "name": "stdout",
          "text": [
            "0\n"
          ]
        }
      ]
    },
    {
      "cell_type": "code",
      "source": [],
      "metadata": {
        "id": "gfmwP7VFTO18"
      },
      "execution_count": null,
      "outputs": []
    }
  ]
}