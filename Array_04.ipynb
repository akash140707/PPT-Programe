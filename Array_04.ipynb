{
  "nbformat": 4,
  "nbformat_minor": 0,
  "metadata": {
    "colab": {
      "provenance": []
    },
    "kernelspec": {
      "name": "python3",
      "display_name": "Python 3"
    },
    "language_info": {
      "name": "python"
    }
  },
  "cells": [
    {
      "cell_type": "markdown",
      "source": [
        "**Question 1**\n",
        "Given three integer arrays arr1, arr2 and arr3 **sorted** in **strictly increasing** order, return a sorted array of **only** the integers that appeared in **all** three arrays.\n",
        "\n",
        "**Example 1:**\n",
        "\n",
        "Input: arr1 = [1,2,3,4,5], arr2 = [1,2,5,7,9], arr3 = [1,3,4,5,8]\n",
        "\n",
        "Output: [1,5]\n",
        "\n",
        "**Explanation:** Only 1 and 5 appeared in the three arrays.\n",
        "\n",
        "</aside>"
      ],
      "metadata": {
        "id": "0BzixSlYdv61"
      }
    },
    {
      "cell_type": "markdown",
      "source": [
        "\n",
        "To find the integers that appear in all three arrays, you can use a common element search approach. Here's an algorithm that solves the problem:\n",
        "\n",
        "1. Initialize three pointers, one for each array: ptr1 = 0, ptr2 = 0, and ptr3 = 0.\n",
        "2. Initialize an empty list to store the common integers: result = [].\n",
        "3. Iterate until any of the pointers reaches the end of its respective array:\n",
        "\n",
        "* Compare the current elements at arr1[ptr1], arr2[ptr2], and arr3[ptr3].\n",
        "\n",
        "* If all three elements are equal, add the element to the result list and increment all three pointers (ptr1, ptr2, and ptr3) by 1.\n",
        "\n",
        "* If the current elements are not equal, increment the pointer of the array with the smallest element.\n",
        "\n",
        "4. Return the result list containing the common integers."
      ],
      "metadata": {
        "id": "nARN7uz3folF"
      }
    },
    {
      "cell_type": "code",
      "source": [
        "def find_common_elements(arr1, arr2, arr3):\n",
        "    ptr1, ptr2, ptr3 = 0, 0, 0\n",
        "    result = []\n",
        "\n",
        "    while ptr1 < len(arr1) and ptr2 < len(arr2) and ptr3 < len(arr3):\n",
        "        if arr1[ptr1] == arr2[ptr2] == arr3[ptr3]:\n",
        "            result.append(arr1[ptr1])\n",
        "            ptr1 += 1\n",
        "            ptr2 += 1\n",
        "            ptr3 += 1\n",
        "        else:\n",
        "            min_val = min(arr1[ptr1], arr2[ptr2], arr3[ptr3])\n",
        "            if arr1[ptr1] == min_val:\n",
        "                ptr1 += 1\n",
        "            if arr2[ptr2] == min_val:\n",
        "                ptr2 += 1\n",
        "            if arr3[ptr3] == min_val:\n",
        "                ptr3 += 1\n",
        "\n",
        "    return result\n"
      ],
      "metadata": {
        "id": "txA1UsaAgTPX"
      },
      "execution_count": 1,
      "outputs": []
    },
    {
      "cell_type": "code",
      "source": [
        "arr1 = [1, 2, 3, 4, 5]\n",
        "arr2 = [1, 2, 5, 7, 9]\n",
        "arr3 = [1, 3, 4, 5, 8]\n",
        "\n",
        "result = find_common_elements(arr1, arr2, arr3)\n",
        "print(result)\n"
      ],
      "metadata": {
        "colab": {
          "base_uri": "https://localhost:8080/"
        },
        "id": "gj390NeCgbHf",
        "outputId": "fe9ccaaa-67b5-4c66-d5d7-60a8055f460e"
      },
      "execution_count": 2,
      "outputs": [
        {
          "output_type": "stream",
          "name": "stdout",
          "text": [
            "[1, 5]\n"
          ]
        }
      ]
    },
    {
      "cell_type": "markdown",
      "source": [
        "**Question 2**\n",
        "\n",
        "Given two **0-indexed** integer arrays nums1 and nums2, return *a list* answer *of size* 2 *where:*\n",
        "\n",
        "- answer[0] *is a list of all **distinct** integers in* nums1 *which are **not** present in* nums2*.*\n",
        "- answer[1] *is a list of all **distinct** integers in* nums2 *which are **not** present in* nums1.\n",
        "\n",
        "**Note** that the integers in the lists may be returned in **any** order.\n",
        "\n",
        "**Example 1:**\n",
        "\n",
        "**Input:** nums1 = [1,2,3], nums2 = [2,4,6]\n",
        "\n",
        "**Output:** [[1,3],[4,6]]\n",
        "\n",
        "**Explanation:**\n",
        "\n",
        "For nums1, nums1[1] = 2 is present at index 0 of nums2, whereas nums1[0] = 1 and nums1[2] = 3 are not present in nums2. Therefore, answer[0] = [1,3].\n",
        "\n",
        "For nums2, nums2[0] = 2 is present at index 1 of nums1, whereas nums2[1] = 4 and nums2[2] = 6 are not present in nums2. Therefore, answer[1] = [4,6].\n",
        "\n",
        "</aside>"
      ],
      "metadata": {
        "id": "oZP9Wt3Sd4Gc"
      }
    },
    {
      "cell_type": "markdown",
      "source": [
        "To solve this problem, you can use set operations in Python. Here's an algorithm that solves the problem:\n",
        "\n",
        "1. Convert both nums1 and nums2 to sets to remove duplicate elements and facilitate set operations.\n",
        "\n",
        "2. Find the set difference between nums1 and nums2 to get the distinct integers in nums1 that are not present in nums2. Store the result in a variable, let's call it diff1.\n",
        "\n",
        "3. Find the set difference between nums2 and nums1 to get the distinct integers in nums2 that are not present in nums1. Store the result in a variable, let's call it diff2.\n",
        "\n",
        "4. Convert diff1 and diff2 back to lists and return a list containing both lists: [list(diff1), list(diff2)]."
      ],
      "metadata": {
        "id": "gCx-E-Yrgl4I"
      }
    },
    {
      "cell_type": "code",
      "source": [
        "def find_missing_numbers(nums1, nums2):\n",
        "    set1 = set(nums1)\n",
        "    set2 = set(nums2)\n",
        "\n",
        "    diff1 = set1 - set2\n",
        "    diff2 = set2 - set1\n",
        "\n",
        "    return [list(diff1), list(diff2)]\n"
      ],
      "metadata": {
        "id": "PVW-fMjgg5_k"
      },
      "execution_count": 3,
      "outputs": []
    },
    {
      "cell_type": "code",
      "source": [
        "nums1 = [1, 2, 3]\n",
        "nums2 = [2, 4, 6]\n",
        "\n",
        "result = find_missing_numbers(nums1, nums2)\n",
        "print(result)\n"
      ],
      "metadata": {
        "colab": {
          "base_uri": "https://localhost:8080/"
        },
        "id": "OkkVfaEPg_cw",
        "outputId": "1189b07c-a5d2-4198-9421-88610a1666cf"
      },
      "execution_count": 4,
      "outputs": [
        {
          "output_type": "stream",
          "name": "stdout",
          "text": [
            "[[1, 3], [4, 6]]\n"
          ]
        }
      ]
    },
    {
      "cell_type": "markdown",
      "source": [
        "**Question 3**\n",
        "\n",
        "Given a 2D integer array matrix, return *the **transpose** of* matrix.\n",
        "\n",
        "The **transpose** of a matrix is the matrix flipped over its main diagonal, switching the matrix's row and column indices.\n",
        "\n",
        "**Example 1:**\n",
        "\n",
        "Input: matrix = [[1,2,3],[4,5,6],[7,8,9]]\n",
        "\n",
        "Output: [[1,4,7],[2,5,8],[3,6,9]]\n",
        "\n",
        "</aside>"
      ],
      "metadata": {
        "id": "S9cyE_wReLRD"
      }
    },
    {
      "cell_type": "markdown",
      "source": [
        "To find the transpose of a matrix, you need to swap the rows and columns. Here's an algorithm that solves the problem:\n",
        "\n",
        "1. Initialize an empty list to store the transpose of the matrix: transpose = [].\n",
        "\n",
        "2. Iterate over the columns of the matrix using a nested loop:\n",
        "\n",
        "* Initialize an empty list for each column: column = [].\n",
        "\n",
        "* Iterate over the rows of the matrix using another loop:\n",
        "\n",
        "* Append the element at matrix[row][column] to the column list.\n",
        "\n",
        "* Append the column list to the transpose list.\n",
        "4. Return the transpose list.\n"
      ],
      "metadata": {
        "id": "SM4v7RfnhEHE"
      }
    },
    {
      "cell_type": "code",
      "source": [
        "def transpose(matrix):\n",
        "    rows = len(matrix)\n",
        "    columns = len(matrix[0])\n",
        "    transpose = []\n",
        "\n",
        "    for col in range(columns):\n",
        "        column = []\n",
        "        for row in range(rows):\n",
        "            column.append(matrix[row][col])\n",
        "        transpose.append(column)\n",
        "\n",
        "    return transpose\n"
      ],
      "metadata": {
        "id": "ppUF3EfghhZK"
      },
      "execution_count": 5,
      "outputs": []
    },
    {
      "cell_type": "code",
      "source": [
        "matrix = [[1, 2, 3], [4, 5, 6], [7, 8, 9]]\n",
        "\n",
        "result = transpose(matrix)\n",
        "print(result)\n"
      ],
      "metadata": {
        "colab": {
          "base_uri": "https://localhost:8080/"
        },
        "id": "o8BZgS9UhkWm",
        "outputId": "cdc4f936-5fa9-4fcf-bfe9-481f87dace63"
      },
      "execution_count": 6,
      "outputs": [
        {
          "output_type": "stream",
          "name": "stdout",
          "text": [
            "[[1, 4, 7], [2, 5, 8], [3, 6, 9]]\n"
          ]
        }
      ]
    },
    {
      "cell_type": "markdown",
      "source": [
        "**Question 4**\n",
        "\n",
        "Given an integer array nums of 2n integers, group these integers into n pairs (a1, b1), (a2, b2), ..., (an, bn) such that the sum of min(ai, bi) for all i is **maximized**. Return *the maximized sum*.\n",
        "\n",
        "**Example 1:**\n",
        "\n",
        "Input: nums = [1,4,3,2]\n",
        "\n",
        "Output: 4\n",
        "\n",
        "**Explanation:** All possible pairings (ignoring the ordering of elements) are:\n",
        "\n",
        "1. (1, 4), (2, 3) -> min(1, 4) + min(2, 3) = 1 + 2 = 3\n",
        "\n",
        "2. (1, 3), (2, 4) -> min(1, 3) + min(2, 4) = 1 + 2 = 3\n",
        "\n",
        "3. (1, 2), (3, 4) -> min(1, 2) + min(3, 4) = 1 + 3 = 4\n",
        "\n",
        "So the maximum possible sum is 4.\n",
        "\n",
        "</aside>"
      ],
      "metadata": {
        "id": "tsSEoewneVUA"
      }
    },
    {
      "cell_type": "markdown",
      "source": [
        "\n",
        "To maximize the sum of the minimum values, you should pair the numbers such that the difference between the numbers in each pair is minimized. Here's an algorithm that solves the problem:\n",
        "\n",
        "1. Sort the nums array in ascending order.\n",
        "2. Initialize a variable max_sum to store the maximized sum.\n",
        "3. Iterate over the sorted nums array by incrementing the index by 2 in each iteration:\n",
        "* Add the smaller value between nums[i] and nums[i+1] to the max_sum.\n",
        "4. Return the max_sum."
      ],
      "metadata": {
        "id": "6pRWpNnmhs4G"
      }
    },
    {
      "cell_type": "code",
      "source": [
        "def array_pair_sum(nums):\n",
        "    nums.sort()\n",
        "    max_sum = 0\n",
        "\n",
        "    for i in range(0, len(nums), 2):\n",
        "        max_sum += min(nums[i], nums[i+1])\n",
        "\n",
        "    return max_sum\n"
      ],
      "metadata": {
        "id": "As8DzCZyh8dp"
      },
      "execution_count": 7,
      "outputs": []
    },
    {
      "cell_type": "code",
      "source": [
        "nums = [1, 4, 3, 2]\n",
        "\n",
        "result = array_pair_sum(nums)\n",
        "print(result)\n"
      ],
      "metadata": {
        "colab": {
          "base_uri": "https://localhost:8080/"
        },
        "id": "Gvgk7O7fh-5H",
        "outputId": "af010941-18ed-4a96-8859-364c3ff69933"
      },
      "execution_count": 8,
      "outputs": [
        {
          "output_type": "stream",
          "name": "stdout",
          "text": [
            "4\n"
          ]
        }
      ]
    },
    {
      "cell_type": "markdown",
      "source": [
        "**Question 5**\n",
        "You have n coins and you want to build a staircase with these coins. The staircase consists of k rows where the ith row has exactly i coins. The last row of the staircase **may be** incomplete.\n",
        "\n",
        "Given the integer n, return *the number of **complete rows** of the staircase you will build*.\n",
        "\n",
        "**Example 1:**\n",
        "\n",
        "[]()\n",
        "\n",
        "![v2.jpg](https://s3-us-west-2.amazonaws.com/secure.notion-static.com/4bd91cfa-d2b1-47b3-8197-a72e8dcfff4b/v2.jpg)\n",
        "\n",
        "**Input:** n = 5\n",
        "\n",
        "**Output:** 2\n",
        "\n",
        "**Explanation:** Because the 3rd row is incomplete, we return 2.\n",
        "\n",
        "</aside>"
      ],
      "metadata": {
        "id": "8oMK4e-5efqu"
      }
    },
    {
      "cell_type": "markdown",
      "source": [
        "\n",
        "To find the number of complete rows in the staircase, you can use the concept of triangular numbers. Triangular numbers represent the sum of consecutive integers from 1 to n.\n",
        "\n",
        "Here's an algorithm that solves the problem:\n",
        "\n",
        "1. Initialize a variable row to store the current row number, starting from 1.\n",
        "2. While n is greater than or equal to row, subtract row from n and increment row by 1.\n",
        "3. Return row - 1."
      ],
      "metadata": {
        "id": "aaKmfJmriPdQ"
      }
    },
    {
      "cell_type": "code",
      "source": [
        "def arrange_coins(n):\n",
        "    row = 1\n",
        "\n",
        "    while n >= row:\n",
        "        n -= row\n",
        "        row += 1\n",
        "\n",
        "    return row - 1\n"
      ],
      "metadata": {
        "id": "XwIx1RvXiVdW"
      },
      "execution_count": 9,
      "outputs": []
    },
    {
      "cell_type": "code",
      "source": [
        "n = 5\n",
        "\n",
        "result = arrange_coins(n)\n",
        "print(result)\n"
      ],
      "metadata": {
        "colab": {
          "base_uri": "https://localhost:8080/"
        },
        "id": "sOolgVWoiXan",
        "outputId": "5cd4520d-0657-409e-8766-db2607eb9d74"
      },
      "execution_count": 10,
      "outputs": [
        {
          "output_type": "stream",
          "name": "stdout",
          "text": [
            "2\n"
          ]
        }
      ]
    },
    {
      "cell_type": "markdown",
      "source": [
        "**Question 6**\n",
        "\n",
        "Given an integer array nums sorted in **non-decreasing** order, return *an array of **the squares of each number** sorted in non-decreasing order*.\n",
        "\n",
        "**Example 1:**\n",
        "\n",
        "Input: nums = [-4,-1,0,3,10]\n",
        "\n",
        "Output: [0,1,9,16,100]\n",
        "\n",
        "**Explanation:** After squaring, the array becomes [16,1,0,9,100].\n",
        "After sorting, it becomes [0,1,9,16,100]\n",
        "\n",
        "</aside>"
      ],
      "metadata": {
        "id": "jpHTrHUYfFP6"
      }
    },
    {
      "cell_type": "markdown",
      "source": [
        "To square each number in the array and sort them in non-decreasing order, you can follow these steps:\n",
        "\n",
        "1. Initialize an empty list to store the squared numbers: squared_nums = [].\n",
        "2. Iterate over each number in the nums array:\n",
        "* Square the current number and append it to the squared_nums list.\n",
        "3. Sort the squared_nums list in non-decreasing order.\n",
        "4. Return the sorted squared_nums list."
      ],
      "metadata": {
        "id": "BH_gKMCDikTt"
      }
    },
    {
      "cell_type": "code",
      "source": [
        "def sorted_squares(nums):\n",
        "    squared_nums = []\n",
        "\n",
        "    for num in nums:\n",
        "        squared_nums.append(num ** 2)\n",
        "\n",
        "    squared_nums.sort()\n",
        "\n",
        "    return squared_nums\n"
      ],
      "metadata": {
        "id": "aSkIAolpitI2"
      },
      "execution_count": 11,
      "outputs": []
    },
    {
      "cell_type": "code",
      "source": [
        "nums = [-4, -1, 0, 3, 10]\n",
        "\n",
        "result = sorted_squares(nums)\n",
        "print(result)\n"
      ],
      "metadata": {
        "colab": {
          "base_uri": "https://localhost:8080/"
        },
        "id": "cWnicZnjiwAI",
        "outputId": "b890e694-b754-4012-c5c2-0445239c4552"
      },
      "execution_count": 12,
      "outputs": [
        {
          "output_type": "stream",
          "name": "stdout",
          "text": [
            "[0, 1, 9, 16, 100]\n"
          ]
        }
      ]
    },
    {
      "cell_type": "markdown",
      "source": [
        "**Question 7**\n",
        "You are given an m x n matrix M initialized with all 0's and an array of operations ops, where ops[i] = [ai, bi] means M[x][y] should be incremented by one for all 0 <= x < ai and 0 <= y < bi.\n",
        "\n",
        "Count and return *the number of maximum integers in the matrix after performing all the operations*\n",
        "\n",
        "**Example 1:**\n",
        "\n",
        "![q4.jpg](https://s3-us-west-2.amazonaws.com/secure.notion-static.com/4d0890d0-7bc7-4f59-be8e-352d9f3c1c52/q4.jpg)\n",
        "\n",
        "**Input:** m = 3, n = 3, ops = [[2,2],[3,3]]\n",
        "\n",
        "**Output:** 4\n",
        "\n",
        "**Explanation:** The maximum integer in M is 2, and there are four of it in M. So return 4.\n",
        "\n",
        "</aside>"
      ],
      "metadata": {
        "id": "tnjqP1PsfPZ-"
      }
    },
    {
      "cell_type": "markdown",
      "source": [
        "1. Initialize min_row and min_col to the maximum possible row and column indices (m and n respectively).\n",
        "2. Iterate over each operation [ai, bi] in the ops array:\n",
        "* Update min_row to the minimum of min_row and ai.\n",
        "* Update min_col to the minimum of min_col and bi.\n",
        "3. Return the product of min_row and min_col."
      ],
      "metadata": {
        "id": "gTC6jxeqi_A1"
      }
    },
    {
      "cell_type": "code",
      "source": [
        "def max_count(m, n, ops):\n",
        "    min_row = m\n",
        "    min_col = n\n",
        "\n",
        "    for op in ops:\n",
        "        min_row = min(min_row, op[0])\n",
        "        min_col = min(min_col, op[1])\n",
        "\n",
        "    return min_row * min_col\n"
      ],
      "metadata": {
        "id": "Pm_SIQjOjIZb"
      },
      "execution_count": 13,
      "outputs": []
    },
    {
      "cell_type": "code",
      "source": [
        "m = 3\n",
        "n = 3\n",
        "ops = [[2, 2], [3, 3]]\n",
        "\n",
        "result = max_count(m, n, ops)\n",
        "print(result)\n"
      ],
      "metadata": {
        "colab": {
          "base_uri": "https://localhost:8080/"
        },
        "id": "UAHVcytojKpL",
        "outputId": "570c4f76-5836-4671-aa99-59160135d429"
      },
      "execution_count": 14,
      "outputs": [
        {
          "output_type": "stream",
          "name": "stdout",
          "text": [
            "4\n"
          ]
        }
      ]
    },
    {
      "cell_type": "markdown",
      "source": [
        "**Question 8**\n",
        "\n",
        "Given the array nums consisting of 2n elements in the form [x1,x2,...,xn,y1,y2,...,yn].\n",
        "\n",
        "*Return the array in the form* [x1,y1,x2,y2,...,xn,yn].\n",
        "\n",
        "**Example 1:**\n",
        "\n",
        "**Input:** nums = [2,5,1,3,4,7], n = 3\n",
        "\n",
        "**Output:** [2,3,5,4,1,7]\n",
        "\n",
        "**Explanation:** Since x1=2, x2=5, x3=1, y1=3, y2=4, y3=7 then the answer is [2,3,5,4,1,7].\n",
        "\n",
        "</aside>"
      ],
      "metadata": {
        "id": "WgbNkrI8fY_S"
      }
    },
    {
      "cell_type": "markdown",
      "source": [
        "1. Create an empty list to store the rearranged elements: result = [].\n",
        "2. Iterate over the range from 0 to n:\n",
        "* Append the ith element from the first half (nums[i]) to the result list.\n",
        "* Append the ith element from the second half (nums[n + i]) to the result list.\n",
        "3. Return the result list.\n"
      ],
      "metadata": {
        "id": "rhul0x17jWYV"
      }
    },
    {
      "cell_type": "code",
      "execution_count": 15,
      "metadata": {
        "id": "h3pLaErBdqll"
      },
      "outputs": [],
      "source": [
        "def rearrange_array(nums, n):\n",
        "    result = []\n",
        "\n",
        "    for i in range(n):\n",
        "        result.append(nums[i])\n",
        "        result.append(nums[n + i])\n",
        "\n",
        "    return result\n"
      ]
    },
    {
      "cell_type": "code",
      "source": [
        "nums = [2, 5, 1, 3, 4, 7]\n",
        "n = 3\n",
        "\n",
        "result = rearrange_array(nums, n)\n",
        "print(result)\n"
      ],
      "metadata": {
        "colab": {
          "base_uri": "https://localhost:8080/"
        },
        "id": "XK_kh7zRjmnv",
        "outputId": "f33e563f-52f9-4948-8c36-8d9e6f4a1179"
      },
      "execution_count": 16,
      "outputs": [
        {
          "output_type": "stream",
          "name": "stdout",
          "text": [
            "[2, 3, 5, 4, 1, 7]\n"
          ]
        }
      ]
    },
    {
      "cell_type": "markdown",
      "source": [],
      "metadata": {
        "id": "3CG_8tsNefQf"
      }
    }
  ]
}