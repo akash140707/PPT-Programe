{
  "nbformat": 4,
  "nbformat_minor": 0,
  "metadata": {
    "colab": {
      "provenance": []
    },
    "kernelspec": {
      "name": "python3",
      "display_name": "Python 3"
    },
    "language_info": {
      "name": "python"
    }
  },
  "cells": [
    {
      "cell_type": "markdown",
      "source": [
        "<aside>\n",
        "💡 Question-1\n",
        "\n",
        "Given a binary tree, your task is to find subtree with maximum sum in tree.\n",
        "\n",
        "Examples:\n",
        "\n",
        "Input1 :\n",
        "\n",
        "          1\n",
        "\n",
        "        /   \\\n",
        "\n",
        "      2      3\n",
        "\n",
        "      / \\    / \\\n",
        "\n",
        "    4   5  6   7\n",
        "\n",
        "Output1 : 28\n",
        "\n",
        "As all the tree elements are positive, the largest subtree sum is equal to sum of all tree elements.\n",
        "\n",
        "Input2 :\n",
        "\n",
        "            1\n",
        "\n",
        "          /    \\\n",
        "\n",
        "        -2      3\n",
        "\n",
        "        / \\    /  \\\n",
        "\n",
        "      4   5  -6   2\n",
        "\n",
        "Output2 : 7\n",
        "\n",
        "Subtree with largest sum is :\n",
        "\n",
        "    -2\n",
        "\n",
        "    / \\\n",
        "\n",
        "    4   5\n",
        "\n",
        "Also, entire tree sum is also 7.\n",
        "\n",
        "</aside>"
      ],
      "metadata": {
        "id": "pEQeAIdpwG-3"
      }
    },
    {
      "cell_type": "markdown",
      "source": [
        "\n",
        "To find the subtree with the maximum sum in a binary tree, you can use a recursive approach. Here's the algorithm to solve this problem:\n",
        "\n",
        "* Define a function maxSubtreeSum(root) that takes the root node of the binary tree as input and returns the sum of the subtree with the maximum sum and the root node of that subtree.\n",
        "* If the root is null, return 0 and null.\n",
        "* Recursively calculate the maximum subtree sum of the left and right subtrees by calling maxSubtreeSum on the left and right child nodes. Let's denote the results as leftSum, leftRoot, rightSum, and rightRoot.\n",
        "* Calculate the sum of the current subtree by adding the root value, leftSum, and rightSum.\n",
        "* Compare the sum of the current subtree with the maximum sum of the left and right subtrees. If the current subtree has a larger sum, set the maximum sum as the sum of the current subtree and update the maximum subtree root as the current root node.\n",
        "Return the maximum sum and the maximum subtree root."
      ],
      "metadata": {
        "id": "hQYWHUCTxIED"
      }
    },
    {
      "cell_type": "code",
      "execution_count": 1,
      "metadata": {
        "colab": {
          "base_uri": "https://localhost:8080/"
        },
        "id": "Zf0wettuum6S",
        "outputId": "050939f2-e4d2-4582-e1e3-f0884ac1712d"
      },
      "outputs": [
        {
          "output_type": "stream",
          "name": "stdout",
          "text": [
            "Maximum subtree sum: 7\n"
          ]
        }
      ],
      "source": [
        "class TreeNode:\n",
        "    def __init__(self, val=0, left=None, right=None):\n",
        "        self.val = val\n",
        "        self.left = left\n",
        "        self.right = right\n",
        "\n",
        "def maxSubtreeSum(root):\n",
        "    if root is None:\n",
        "        return 0, None\n",
        "\n",
        "    leftSum, leftRoot = maxSubtreeSum(root.left)\n",
        "    rightSum, rightRoot = maxSubtreeSum(root.right)\n",
        "\n",
        "    currentSum = root.val + leftSum + rightSum\n",
        "\n",
        "    if (leftRoot is None or currentSum < leftSum) and (rightRoot is None or currentSum < rightSum):\n",
        "        return currentSum, root\n",
        "    elif leftSum > rightSum:\n",
        "        return leftSum, leftRoot\n",
        "    else:\n",
        "        return rightSum, rightRoot\n",
        "\n",
        "# Example usage:\n",
        "# Create the binary tree from the example\n",
        "root = TreeNode(1)\n",
        "root.left = TreeNode(2)\n",
        "root.right = TreeNode(3)\n",
        "root.left.left = TreeNode(4)\n",
        "root.left.right = TreeNode(5)\n",
        "root.right.left = TreeNode(6)\n",
        "root.right.right = TreeNode(7)\n",
        "\n",
        "maxSum, maxSubtreeRoot = maxSubtreeSum(root)\n",
        "print(\"Maximum subtree sum:\", maxSum)\n"
      ]
    },
    {
      "cell_type": "markdown",
      "source": [
        "<aside>\n",
        "💡 Question-2\n",
        "\n",
        "Construct the BST (Binary Search Tree) from its given level order traversal.\n",
        "\n",
        "Example:\n",
        "\n",
        "Input: arr[] = {7, 4, 12, 3, 6, 8, 1, 5, 10}\n",
        "\n",
        "Output: BST:\n",
        "\n",
        "                7\n",
        "\n",
        "            /    \\\n",
        "\n",
        "          4     12\n",
        "\n",
        "        /  \\     /\n",
        "\n",
        "        3   6  8\n",
        "\n",
        "      /    /     \\\n",
        "\n",
        "    1    5      10\n",
        "\n",
        "</aside>"
      ],
      "metadata": {
        "id": "rr1vkriUxcp-"
      }
    },
    {
      "cell_type": "markdown",
      "source": [
        "To construct a binary search tree (BST) from its given level order traversal, you can use a recursive approach. Here's the algorithm to solve this problem:\n",
        "\n",
        "* Define a function constructBST(levelOrder) that takes the level order traversal array as input and returns the root node of the constructed BST.\n",
        "* If the level order array is empty, return None.\n",
        "* Create a root node with the value at the first index of the level order array.\n",
        "* Create two empty lists, leftSubtree and rightSubtree, to store the elements for the left and right subtrees, respectively.\n",
        "* Iterate over the elements in the level order array, starting from the second index.\n",
        "*If the current element is less than the value of the root node, add it to the leftSubtree list.\n",
        "* If the current element is greater than the value of the root node, add it to the rightSubtree list.\n",
        "* Recursively call constructBST on leftSubtree to construct the left subtree of the root node.\n",
        "* Recursively call constructBST on rightSubtree to construct the right subtree of the root node.\n",
        "* Set the left child of the root node as the result of the recursive call on the left subtree.\n",
        "* Set the right child of the root node as the result of the recursive call on the right subtree.\n",
        "* Return the root node."
      ],
      "metadata": {
        "id": "KcdkRWutx19o"
      }
    },
    {
      "cell_type": "code",
      "source": [
        "class TreeNode:\n",
        "    def __init__(self, val=0, left=None, right=None):\n",
        "        self.val = val\n",
        "        self.left = left\n",
        "        self.right = right\n",
        "\n",
        "def constructBST(levelOrder):\n",
        "    if not levelOrder:\n",
        "        return None\n",
        "\n",
        "    root = TreeNode(levelOrder[0])\n",
        "    leftSubtree = []\n",
        "    rightSubtree = []\n",
        "\n",
        "    for i in range(1, len(levelOrder)):\n",
        "        if levelOrder[i] < root.val:\n",
        "            leftSubtree.append(levelOrder[i])\n",
        "        else:\n",
        "            rightSubtree.append(levelOrder[i])\n",
        "\n",
        "    root.left = constructBST(leftSubtree)\n",
        "    root.right = constructBST(rightSubtree)\n",
        "\n",
        "    return root\n",
        "\n",
        "# Example usage:\n",
        "levelOrder = [7, 4, 12, 3, 6, 8, 1, 5, 10]\n",
        "root = constructBST(levelOrder)\n",
        "\n",
        "# Function to print the BST in inorder traversal\n",
        "def printInorder(root):\n",
        "    if root:\n",
        "        printInorder(root.left)\n",
        "        print(root.val, end=\" \")\n",
        "        printInorder(root.right)\n",
        "\n",
        "print(\"BST:\")\n",
        "printInorder(root)\n"
      ],
      "metadata": {
        "colab": {
          "base_uri": "https://localhost:8080/"
        },
        "id": "ptsBFQMcv5Cz",
        "outputId": "117f20ac-a61a-4f72-f878-b9f7c17de03e"
      },
      "execution_count": 2,
      "outputs": [
        {
          "output_type": "stream",
          "name": "stdout",
          "text": [
            "BST:\n",
            "1 3 4 5 6 7 8 10 12 "
          ]
        }
      ]
    },
    {
      "cell_type": "markdown",
      "source": [
        "<aside>\n",
        "💡 Question-3\n",
        "\n",
        "Given an array of size n. The problem is to check whether the given array can represent the level order traversal of a Binary Search Tree or not.\n",
        "\n",
        "Examples:\n",
        "\n",
        "Input1 : arr[] = {7, 4, 12, 3, 6, 8, 1, 5, 10}\n",
        "\n",
        "Output1 : Yes\n",
        "\n",
        "For the given arr[], the Binary Search Tree is:\n",
        "\n",
        "                7\n",
        "\n",
        "            /    \\\n",
        "\n",
        "          4     12\n",
        "\n",
        "        /  \\     /\n",
        "\n",
        "        3   6  8\n",
        "\n",
        "      /    /     \\\n",
        "\n",
        "    1    5      10\n",
        "\n",
        "Input2 : arr[] = {11, 6, 13, 5, 12, 10}\n",
        "\n",
        "Output2 : No\n",
        "\n",
        "The given arr[] does not represent the level order traversal of a BST.\n",
        "\n",
        "</aside>"
      ],
      "metadata": {
        "id": "hLob3e7Oyt8k"
      }
    },
    {
      "cell_type": "markdown",
      "source": [
        "To check whether a given array can represent the level order traversal of a Binary Search Tree (BST) or not, you can use the following approach:\n",
        "\n",
        "1 Define a function isLevelOrderBST(levelOrder) that takes the level order traversal array as input and returns True if the array represents a valid BST, and False otherwise.\n",
        "\n",
        "2 If the level order array is empty, return True since an empty array represents a valid BST.\n",
        "\n",
        "3 Create an empty stack and push the first element of the level order array onto the stack.\n",
        "\n",
        "4 Initialize two variables, minValue and maxValue, with the minimum and maximum possible values for a node in the BST, respectively (e.g., minValue = -inf and maxValue = +inf).\n",
        "\n",
        "5 Iterate over the remaining elements in the level order array starting from the second element:\n",
        "* If the current element is less than the top element of the stack, return False since it violates the BST property.\n",
        "* Otherwise, update the minValue if necessary and push the current element onto the stack.\n",
        "\n",
        "6 Iterate over the remaining elements in the level order array:\n",
        "* If the current element is less than or equal to the top element of the stack, return False since it violates the BST property.\n",
        "* Otherwise, update the maxValue if necessary and push the current element onto the stack.\n",
        "\n",
        "7 If the loop completes without returning False, return True since the array represents a valid BST."
      ],
      "metadata": {
        "id": "n99eiXzqy-5c"
      }
    },
    {
      "cell_type": "code",
      "source": [
        "def isLevelOrderBST(levelOrder):\n",
        "    if not levelOrder:\n",
        "        return True\n",
        "\n",
        "    stack = [levelOrder[0]]\n",
        "    minValue = float('-inf')\n",
        "    maxValue = float('inf')\n",
        "\n",
        "    for i in range(1, len(levelOrder)):\n",
        "        if levelOrder[i] < stack[-1]:\n",
        "            return False\n",
        "        elif levelOrder[i] > stack[-1]:\n",
        "            while stack and levelOrder[i] > stack[-1]:\n",
        "                minValue = stack.pop()\n",
        "            stack.append(levelOrder[i])\n",
        "\n",
        "    for i in range(len(levelOrder)):\n",
        "        if levelOrder[i] <= stack[-1]:\n",
        "            return False\n",
        "        else:\n",
        "            while stack and levelOrder[i] > stack[-1]:\n",
        "                maxValue = stack.pop()\n",
        "            stack.append(levelOrder[i])\n",
        "\n",
        "    return True\n",
        "\n",
        "# Example usage:\n",
        "levelOrder1 = [7, 4, 12, 3, 6, 8, 1, 5, 10]\n",
        "print(isLevelOrderBST(levelOrder1))  # Output: True\n",
        "\n",
        "levelOrder2 = [11, 6, 13, 5, 12, 10]\n",
        "print(isLevelOrderBST(levelOrder2))  # Output: False\n"
      ],
      "metadata": {
        "colab": {
          "base_uri": "https://localhost:8080/"
        },
        "id": "x_tyFv1TykK1",
        "outputId": "abec4f74-8260-4e45-f093-094705e866a3"
      },
      "execution_count": 3,
      "outputs": [
        {
          "output_type": "stream",
          "name": "stdout",
          "text": [
            "False\n",
            "False\n"
          ]
        }
      ]
    },
    {
      "cell_type": "code",
      "source": [],
      "metadata": {
        "id": "r1dED6-Oz0iO"
      },
      "execution_count": null,
      "outputs": []
    }
  ]
}