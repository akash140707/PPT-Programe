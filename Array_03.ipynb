{
  "nbformat": 4,
  "nbformat_minor": 0,
  "metadata": {
    "colab": {
      "provenance": []
    },
    "kernelspec": {
      "name": "python3",
      "display_name": "Python 3"
    },
    "language_info": {
      "name": "python"
    }
  },
  "cells": [
    {
      "cell_type": "markdown",
      "source": [
        "**Question 1**\n",
        "\n",
        "Given an integer array nums of length n and an integer target, find three integers\n",
        "in nums such that the sum is closest to the target.\n",
        "\n",
        "Return the sum of the three integers.\n",
        "\n",
        "You may assume that each input would have exactly one solution.\n",
        "\n",
        "Example 1:\n",
        "Input: nums = [-1,2,1,-4], target = 1\n",
        "\n",
        "Output: 2\n",
        "\n",
        "Explanation: The sum that is closest to the target is 2. (-1 + 2 + 1 = 2)."
      ],
      "metadata": {
        "id": "MX4rAvMO-9l5"
      }
    },
    {
      "cell_type": "markdown",
      "source": [
        "To solve this problem, you can use a two-pointer approach along with sorting the array. Here's an algorithm to find three integers in the array whose sum is closest to the target:\n",
        "\n",
        "1. Sort the given array nums in ascending order.\n",
        "\n",
        "2. Initialize a variable named closestSum and set it to a very large value.\n",
        "\n",
        "3. Iterate through the array from index 0 to n - 2 (let's call this index i):\n",
        "\n",
        "* Initialize two pointers, left and right. Set left = i + 1 and right = n - 1.\n",
        "\n",
        "* While left < right, do the following:\n",
        "\n",
        "* Calculate the current sum as nums[i] + nums[left] + nums[right].\n",
        "\n",
        "* If the absolute difference between the current sum and the target is less than the absolute difference between closestSum and the target, update closestSum to the current sum.\n",
        "\n",
        "* If the current sum is greater than the target, decrement the right pointer by 1.\n",
        "\n",
        "* If the current sum is less than the target, increment the left pointer by 1.\n",
        "\n",
        "* If the current sum is equal to the target, return the target (since we found an exact match, which is the closest possible sum).\n",
        "\n",
        "4. After the loop ends, return closestSum, which will contain the sum of the three integers closest to the target.\n",
        "\n",
        "Here's the implementation in Python:"
      ],
      "metadata": {
        "id": "Vauo7C-OzUZ6"
      }
    },
    {
      "cell_type": "code",
      "source": [
        "def threeSumClosest(nums, target):\n",
        "    nums.sort()\n",
        "    n = len(nums)\n",
        "    closestSum = float('inf')\n",
        "    \n",
        "    for i in range(n - 2):\n",
        "        left = i + 1\n",
        "        right = n - 1\n",
        "        \n",
        "        while left < right:\n",
        "            currentSum = nums[i] + nums[left] + nums[right]\n",
        "            \n",
        "            if abs(currentSum - target) < abs(closestSum - target):\n",
        "                closestSum = currentSum\n",
        "            \n",
        "            if currentSum > target:\n",
        "                right -= 1\n",
        "            elif currentSum < target:\n",
        "                left += 1\n",
        "            else:\n",
        "                return target\n",
        "    \n",
        "    return closestSum\n",
        "\n",
        "threeSumClosest([-1,2,1,-4], target=1)    "
      ],
      "metadata": {
        "colab": {
          "base_uri": "https://localhost:8080/"
        },
        "id": "onVWqo1A0N5_",
        "outputId": "a2f23046-ddcc-4854-eb58-9dfb1b8a57b4"
      },
      "execution_count": 2,
      "outputs": [
        {
          "output_type": "execute_result",
          "data": {
            "text/plain": [
              "2"
            ]
          },
          "metadata": {},
          "execution_count": 2
        }
      ]
    },
    {
      "cell_type": "code",
      "source": [],
      "metadata": {
        "id": "P08LXTAw0T1s"
      },
      "execution_count": null,
      "outputs": []
    },
    {
      "cell_type": "markdown",
      "source": [
        "**Question 2**\n",
        "\n",
        "Given an array nums of n integers, return an array of all the unique quadruplets\n",
        "\n",
        "[nums[a], nums[b], nums[c], nums[d]] such that:\n",
        "\n",
        "           ● 0 <= a, b, c, d < n\n",
        "           ● a, b, c, and d are distinct.\n",
        "           ● nums[a] + nums[b] + nums[c] + nums[d] == target\n",
        "\n",
        "You may return the answer in any order.\n",
        "\n",
        "Example 1:\n",
        "Input: nums = [1,0,-1,0,-2,2], target = 0\n",
        "\n",
        "Output: [[-2,-1,1,2],[-2,0,0,2],[-1,0,0,1]]"
      ],
      "metadata": {
        "id": "799x0Ztg_Qah"
      }
    },
    {
      "cell_type": "markdown",
      "source": [
        "1. Sort the input array nums in ascending order.\n",
        "\n",
        "2. Initialize an empty list called result to store the unique quadruplets.\n",
        "\n",
        "3.  Iterate over the array from index 0 to n-4 (let's call this index a):\n",
        "\n",
        "* If a > 0 and nums[a] is equal to nums[a-1], continue to the next iteration to avoid duplicates.\n",
        "\n",
        "* Iterate over the array from index a+1 to n-3 (let's call this index b):\n",
        "\n",
        "* If b > a+1 and nums[b] is equal to nums[b-1], continue to the next iteration to avoid duplicates.\n",
        "\n",
        "* Initialize two pointers, left and right.\n",
        "\n",
        "* Set left to b+1 and right to n-1.\n",
        "\n",
        "* While left < right, do the following:\n",
        "\n",
        "* Calculate the current sum as nums[a] + nums[b] + nums[left] + nums[right].\n",
        "\n",
        "* If the current sum is equal to the target:\n",
        "\n",
        "* Add [nums[a], nums[b], nums[left], nums[right]] to the result list.\n",
        "\n",
        "* Increment left and decrement right while skipping duplicates.\n",
        "\n",
        "* If the current sum is less than the target, increment left.\n",
        "\n",
        "* If the current sum is greater than the target, decrement right.\n",
        "\n",
        "4. Return the result list containing all unique quadruplets.\n",
        "\n",
        "Here's the implementation in Python:"
      ],
      "metadata": {
        "id": "TCbwHLkX1opD"
      }
    },
    {
      "cell_type": "code",
      "source": [
        "def fourSum(nums, target):\n",
        "    nums.sort()\n",
        "    n = len(nums)\n",
        "    result = []\n",
        "    \n",
        "    for a in range(n-3):\n",
        "        if a > 0 and nums[a] == nums[a-1]:\n",
        "            continue\n",
        "        \n",
        "        for b in range(a+1, n-2):\n",
        "            if b > a+1 and nums[b] == nums[b-1]:\n",
        "                continue\n",
        "            \n",
        "            left = b + 1\n",
        "            right = n - 1\n",
        "            \n",
        "            while left < right:\n",
        "                currentSum = nums[a] + nums[b] + nums[left] + nums[right]\n",
        "                \n",
        "                if currentSum == target:\n",
        "                    result.append([nums[a], nums[b], nums[left], nums[right]])\n",
        "                    left += 1\n",
        "                    right -= 1\n",
        "                    \n",
        "                    while left < right and nums[left] == nums[left-1]:\n",
        "                        left += 1\n",
        "                    while left < right and nums[right] == nums[right+1]:\n",
        "                        right -= 1\n",
        "                \n",
        "                elif currentSum < target:\n",
        "                    left += 1\n",
        "                else:\n",
        "                    right -= 1\n",
        "    \n",
        "    return result\n",
        "fourSum([1,0,-1,0,-2,2], target=0)"
      ],
      "metadata": {
        "colab": {
          "base_uri": "https://localhost:8080/"
        },
        "id": "FpZOyoK32vqf",
        "outputId": "b7b8f616-3efe-47b8-e04d-bf547b51ccaa"
      },
      "execution_count": 3,
      "outputs": [
        {
          "output_type": "execute_result",
          "data": {
            "text/plain": [
              "[[-2, -1, 1, 2], [-2, 0, 0, 2], [-1, 0, 0, 1]]"
            ]
          },
          "metadata": {},
          "execution_count": 3
        }
      ]
    },
    {
      "cell_type": "markdown",
      "source": [
        "**Question 3**\n",
        "\n",
        "A permutation of an array of integers is an arrangement of its members into a\n",
        "sequence or linear order.\n",
        "\n",
        "For example, for arr = [1,2,3], the following are all the permutations of arr:\n",
        "\n",
        "[1,2,3], [1,3,2], [2, 1, 3], [2, 3, 1], [3,1,2], [3,2,1].\n",
        "\n",
        "The next permutation of an array of integers is the next lexicographically greater\n",
        "\n",
        "permutation of its integer. More formally, if all the permutations of the array are\n",
        "\n",
        "sorted in one container according to their lexicographical order, then the next\n",
        "permutation of that array is the permutation that follows it in the sorted container.\n",
        "\n",
        "If such an arrangement is not possible, the array must be rearranged as the\n",
        "lowest possible order (i.e., sorted in ascending order).\n",
        "\n",
        "● For example, the next permutation of arr = [1,2,3] is [1,3,2].\n",
        "\n",
        "● Similarly, the next permutation of arr = [2,3,1] is [3,1,2].\n",
        "\n",
        "● While the next permutation of arr = [3,2,1] is [1,2,3] because [3,2,1] does not\n",
        "have a lexicographical larger rearrangement.\n",
        "\n",
        "Given an array of integers nums, find the next permutation of nums.\n",
        "The replacement must be in place and use only constant extra memory.\n",
        "\n",
        "**Example 1:**\n",
        "\n",
        "Input: nums = [1,2,3]\n",
        "\n",
        "Output: [1,3,2]\n",
        "\n",
        "</aside>"
      ],
      "metadata": {
        "id": "H5mWGozr_QXM"
      }
    },
    {
      "cell_type": "markdown",
      "source": [
        "To find the next lexicographically greater permutation of an array, you can follow these steps:\n",
        "\n",
        "1. Start from the rightmost element of the array and move towards the left until you find a pair of adjacent elements where the left element is smaller than the right element. Let's call the index of the left element i. If no such pair is found, it means the array is in descending order, and it's the last permutation. In this case, reverse the array to get the lowest possible order.\n",
        "\n",
        "2. Once you find the pair (nums[i], nums[i+1]), swap them.\n",
        "\n",
        "3. Reverse the subarray starting from index i+1 to the end of the array.\n",
        "\n",
        "Here's the implementation in Python:"
      ],
      "metadata": {
        "id": "rIeAOz-Q3EPD"
      }
    },
    {
      "cell_type": "code",
      "source": [
        "def nextPermutation(nums):\n",
        "    # Find the first pair (nums[i], nums[i+1]) where nums[i] < nums[i+1]\n",
        "    i = len(nums) - 2\n",
        "    while i >= 0 and nums[i] >= nums[i+1]:\n",
        "        i -= 1\n",
        "    \n",
        "    if i >= 0:\n",
        "        # Find the first element from the right that is greater than nums[i]\n",
        "        j = len(nums) - 1\n",
        "        while j > i and nums[j] <= nums[i]:\n",
        "            j -= 1\n",
        "        # Swap nums[i] and nums[j]\n",
        "        nums[i], nums[j] = nums[j], nums[i]\n",
        "    \n",
        "    # Reverse the subarray starting from index i+1\n",
        "    left = i + 1\n",
        "    right = len(nums) - 1\n",
        "    while left < right:\n",
        "        nums[left], nums[right] = nums[right], nums[left]\n",
        "        left += 1\n",
        "        right -= 1\n",
        "\n",
        "nextPermutation(nums)"
      ],
      "metadata": {
        "id": "s_UX2YOb3mIK"
      },
      "execution_count": 6,
      "outputs": []
    },
    {
      "cell_type": "markdown",
      "source": [
        "**Question 4**\n",
        "\n",
        "Given a sorted array of distinct integers and a target value, return the index if the\n",
        "target is found. If not, return the index where it would be if it were inserted in\n",
        "order.\n",
        "\n",
        "You must write an algorithm with O(log n) runtime complexity.\n",
        "\n",
        "Example 1:\n",
        "\n",
        "Input: nums = [1,3,5,6], target = 5\n",
        "\n",
        "Output: 2"
      ],
      "metadata": {
        "id": "EOzjGibDAKny"
      }
    },
    {
      "cell_type": "markdown",
      "source": [
        "To find the index where the target value would be inserted in a sorted array of distinct integers, you can use the binary search algorithm. Here's the algorithm with O(log n) runtime complexity:\n",
        "\n",
        "1. Initialize two pointers, left and right, pointing to the start and end of the array, respectively.\n",
        "\n",
        "2. While left <= right, do the following:\n",
        "\n",
        "* Calculate the middle index as mid = left + (right - left) // 2.\n",
        "\n",
        "* If the middle element is equal to the target, return mid.\n",
        "\n",
        "* If the middle element is greater than the target, update right = mid - 1 to search in the left half of the array.\n",
        "\n",
        "* If the middle element is less than the target, update left = mid + 1 to search in the right half of the array.\n",
        "\n",
        "3. After the loop ends, return left, which represents the index where the target would be inserted in order.\n",
        "\n",
        "Here's the implementation in Python:\n"
      ],
      "metadata": {
        "id": "q3YqnxFL9zMq"
      }
    },
    {
      "cell_type": "code",
      "source": [
        "def searchInsert(nums, target):\n",
        "    left = 0\n",
        "    right = len(nums) - 1\n",
        "    \n",
        "    while left <= right:\n",
        "        mid = left + (right - left) // 2\n",
        "        \n",
        "        if nums[mid] == target:\n",
        "            return mid\n",
        "        elif nums[mid] > target:\n",
        "            right = mid - 1\n",
        "        else:\n",
        "            left = mid + 1\n",
        "    \n",
        "    return left\n"
      ],
      "metadata": {
        "id": "3BVnLl-y-W0Q"
      },
      "execution_count": 7,
      "outputs": []
    },
    {
      "cell_type": "markdown",
      "source": [
        "**Question 5**\n",
        "\n",
        "You are given a large integer represented as an integer array digits, where each\n",
        "digits[i] is the ith digit of the integer. The digits are ordered from most significant\n",
        "to least significant in left-to-right order. The large integer does not contain any\n",
        "leading 0's.\n",
        "\n",
        "Increment the large integer by one and return the resulting array of digits.\n",
        "\n",
        "**Example 1:**\n",
        "\n",
        "Input: digits = [1,2,3]\n",
        "\n",
        "Output: [1,2,4]\n",
        "\n",
        "**Explanation:** The array represents the integer 123.\n",
        "\n",
        "Incrementing by one gives 123 + 1 = 124.\n",
        "\n",
        "Thus, the result should be [1,2,4].\n",
        "\n",
        "</aside>"
      ],
      "metadata": {
        "id": "NFHKQD-SAXl8"
      }
    },
    {
      "cell_type": "markdown",
      "source": [
        "To increment a large integer represented as an integer array by one, you can follow these steps:\n",
        "\n",
        "1. Start from the rightmost digit (the least significant digit) of the array.\n",
        "\n",
        "2. Add 1 to the rightmost digit.\n",
        "\n",
        "3. If the resulting digit is less than 10, there is no carry-over, so you can return the updated array.\n",
        "\n",
        "4. If the resulting digit is equal to 10, there is a carry-over.\n",
        "\n",
        "* Set the current digit to 0.\n",
        "\n",
        "* Move to the next digit towards the left.\n",
        "\n",
        "* Repeat steps 2-4 until there are no more carry-overs or you reach the left end of the array.\n",
        "\n",
        "5. If you reach the left end of the array and there is still a carry-over, insert a new digit 1 at the beginning of the array.\n",
        "\n",
        "Here's the implementation in Python:"
      ],
      "metadata": {
        "id": "EqxoB0wf-c0z"
      }
    },
    {
      "cell_type": "code",
      "source": [
        "def plusOne(digits):\n",
        "    n = len(digits)\n",
        "    \n",
        "    for i in range(n-1, -1, -1):\n",
        "        digits[i] += 1\n",
        "        if digits[i] < 10:\n",
        "            return digits\n",
        "        digits[i] = 0\n",
        "    \n",
        "    # If there is a carry-over at the left end\n",
        "    digits.insert(0, 1)\n",
        "    return digits\n"
      ],
      "metadata": {
        "id": "6kuaZ4sA_DqB"
      },
      "execution_count": 8,
      "outputs": []
    },
    {
      "cell_type": "markdown",
      "source": [
        "**Question 6**\n",
        "\n",
        "Given a non-empty array of integers nums, every element appears twice except\n",
        "for one. Find that single one.\n",
        "\n",
        "You must implement a solution with a linear runtime complexity and use only\n",
        "constant extra space.\n",
        "\n",
        "Example 1:\n",
        "\n",
        "Input: nums = [2,2,1]\n",
        "\n",
        "Output: 1"
      ],
      "metadata": {
        "id": "g5Aje9uiAyV5"
      }
    },
    {
      "cell_type": "markdown",
      "source": [
        "To find the element that appears only once in an array where every other element appears twice, you can use the XOR (exclusive OR) operation. The XOR operation has the property that XORing a number with itself results in 0. Therefore, if we XOR all the elements in the array, the duplicate elements will cancel out each other, and the remaining XOR result will be the element that appears only once.\n",
        "\n",
        "Here's the algorithm to find the single element:\n",
        "\n",
        "1. Initialize a variable result to 0.\n",
        "\n",
        "2. Iterate through the array nums and for each element, perform the XOR operation with result. Assign the result back to result.\n",
        "\n",
        "3. After the loop, the value of result will be the element that appears only once in the array.\n",
        "\n",
        "Here's the implementation in Python:"
      ],
      "metadata": {
        "id": "4biwc2dQ_mb4"
      }
    },
    {
      "cell_type": "code",
      "source": [
        "def singleNumber(nums):\n",
        "    result = 0\n",
        "    for num in nums:\n",
        "        result ^= num\n",
        "    return result\n"
      ],
      "metadata": {
        "id": "PH-zWFNV_2e3"
      },
      "execution_count": 9,
      "outputs": []
    },
    {
      "cell_type": "markdown",
      "source": [
        "**Question 7**\n",
        "\n",
        "You are given an inclusive range [lower, upper] and a sorted unique integer array\n",
        "nums, where all elements are within the inclusive range.\n",
        "\n",
        "A number x is considered missing if x is in the range [lower, upper] and x is not in\n",
        "nums.\n",
        "\n",
        "Return the shortest sorted list of ranges that exactly covers all the missing\n",
        "numbers. That is, no element of nums is included in any of the ranges, and each\n",
        "missing number is covered by one of the ranges.\n",
        "\n",
        "Example 1:\n",
        "\n",
        "Input: nums = [0,1,3,50,75], lower = 0, upper = 99\n",
        "\n",
        "Output: [[2,2],[4,49],[51,74],[76,99]]\n",
        "\n",
        "Explanation: The ranges are:\n",
        "\n",
        "[2,2]\n",
        "\n",
        "[4,49]\n",
        "\n",
        "[51,74]\n",
        "\n",
        "[76,99]"
      ],
      "metadata": {
        "id": "GJRRYkNsA4_Z"
      }
    },
    {
      "cell_type": "markdown",
      "source": [
        "To find the shortest sorted list of ranges that covers all the missing numbers within a given range [lower, upper] and a sorted array nums, you can iterate through the range and nums simultaneously. Here's the algorithm:\n",
        "\n",
        "1. Initialize an empty list result to store the ranges.\n",
        "\n",
        "2. Initialize a variable start to lower to keep track of the starting point of a range.\n",
        "\n",
        "3. Iterate through the range from lower to upper (inclusive) using a variable num:\n",
        "\n",
        "* If num is equal to the current element in nums, increment num and continue to the next iteration.\n",
        "\n",
        "* If num is not equal to the current element in nums, it is a missing number:\n",
        "\n",
        "* Set the end variable to num - 1.\n",
        "\n",
        "* If start and end are equal, add the range as a string representation of start to result.\n",
        "\n",
        "* If start and end are not equal, add the range as a string representation of start concatenated with \"->\" and end to result.\n",
        "\n",
        "* Update start to num.\n",
        "\n",
        "4. After the loop ends, if start is equal to upper, add the range as a string representation of start to result.\n",
        "\n",
        "Otherwise, add the range as a string representation of start concatenated with \"->\" and upper to result.\n",
        "\n",
        "5. Return the result list containing the shortest sorted list of ranges.\n",
        "\n",
        "Here's the implementation in Python"
      ],
      "metadata": {
        "id": "wARguyV8__1D"
      }
    },
    {
      "cell_type": "code",
      "source": [
        "def findMissingRanges(nums, lower, upper):\n",
        "    result = []\n",
        "    start = lower\n",
        "    \n",
        "    for num in range(lower, upper+1):\n",
        "        if nums and num == nums[0]:\n",
        "            nums.pop(0)\n",
        "        else:\n",
        "            if start == num - 1:\n",
        "                result.append(str(start))\n",
        "            elif start < num - 1:\n",
        "                result.append(str(start) + \"->\" + str(num - 1))\n",
        "            start = num + 1\n",
        "    \n",
        "    if start == upper:\n",
        "        result.append(str(start))\n",
        "    elif start < upper:\n",
        "        result.append(str(start) + \"->\" + str(upper))\n",
        "    \n",
        "    return result\n"
      ],
      "metadata": {
        "id": "lnOH4BdUAp8g"
      },
      "execution_count": 10,
      "outputs": []
    },
    {
      "cell_type": "markdown",
      "source": [
        "**Question 8**\n",
        "\n",
        "Given an array of meeting time intervals where intervals[i] = [starti, endi],\n",
        "determine if a person could attend all meetings.\n",
        "\n",
        "Example 1:\n",
        "\n",
        "Input: intervals = [[0,30],[5,10],[15,20]]\n",
        "\n",
        "Output: false"
      ],
      "metadata": {
        "id": "2dsxS7w2A40R"
      }
    },
    {
      "cell_type": "markdown",
      "source": [
        "To determine if a person could attend all meetings given an array of meeting time intervals, you can follow these steps:\n",
        "\n",
        "1. Sort the intervals array based on the start time of each meeting.\n",
        "\n",
        "2. Iterate through the sorted intervals array starting from the second meeting:\n",
        "\n",
        "* If the start time of the current meeting is earlier than or equal to the end time of the previous meeting, return False since there is a scheduling conflict.\n",
        "\n",
        "3. If the loop completes without any scheduling conflicts, return True, indicating that the person can attend all meetings.\n",
        "\n",
        "Here's the implementation in Python:"
      ],
      "metadata": {
        "id": "cxECzIXQAxZU"
      }
    },
    {
      "cell_type": "code",
      "execution_count": 11,
      "metadata": {
        "id": "KoWnb-j1-5vf"
      },
      "outputs": [],
      "source": [
        "def canAttendMeetings(intervals):\n",
        "    intervals.sort(key=lambda x: x[0])  # Sort intervals based on start time\n",
        "\n",
        "    for i in range(1, len(intervals)):\n",
        "        if intervals[i][0] < intervals[i-1][1]:\n",
        "            return False\n",
        "\n",
        "    return True\n"
      ]
    },
    {
      "cell_type": "code",
      "source": [],
      "metadata": {
        "id": "O4VuHYuFBBNq"
      },
      "execution_count": null,
      "outputs": []
    }
  ]
}